{
  "cells": [
    {
      "cell_type": "code",
      "execution_count": 1,
      "metadata": {
        "colab": {
          "base_uri": "https://localhost:8080/"
        },
        "collapsed": true,
        "id": "2oMjoyyhplxx",
        "outputId": "295203c8-18b9-4db7-bafb-ffc9f49ac8d9"
      },
      "outputs": [
        {
          "output_type": "stream",
          "name": "stdout",
          "text": [
            "Found existing installation: scikit-learn 1.6.1\n",
            "Uninstalling scikit-learn-1.6.1:\n",
            "  Successfully uninstalled scikit-learn-1.6.1\n",
            "Collecting scikit-learn==1.5.2\n",
            "  Downloading scikit_learn-1.5.2-cp311-cp311-manylinux_2_17_x86_64.manylinux2014_x86_64.whl.metadata (13 kB)\n",
            "Requirement already satisfied: numpy>=1.19.5 in /usr/local/lib/python3.11/dist-packages (from scikit-learn==1.5.2) (1.26.4)\n",
            "Requirement already satisfied: scipy>=1.6.0 in /usr/local/lib/python3.11/dist-packages (from scikit-learn==1.5.2) (1.13.1)\n",
            "Requirement already satisfied: joblib>=1.2.0 in /usr/local/lib/python3.11/dist-packages (from scikit-learn==1.5.2) (1.4.2)\n",
            "Requirement already satisfied: threadpoolctl>=3.1.0 in /usr/local/lib/python3.11/dist-packages (from scikit-learn==1.5.2) (3.5.0)\n",
            "Downloading scikit_learn-1.5.2-cp311-cp311-manylinux_2_17_x86_64.manylinux2014_x86_64.whl (13.3 MB)\n",
            "\u001b[2K   \u001b[90m━━━━━━━━━━━━━━━━━━━━━━━━━━━━━━━━━━━━━━━━\u001b[0m \u001b[32m13.3/13.3 MB\u001b[0m \u001b[31m28.9 MB/s\u001b[0m eta \u001b[36m0:00:00\u001b[0m\n",
            "\u001b[?25hInstalling collected packages: scikit-learn\n",
            "Successfully installed scikit-learn-1.5.2\n"
          ]
        }
      ],
      "source": [
        "!pip uninstall -y scikit-learn\n",
        "!pip install scikit-learn==1.5.2"
      ]
    },
    {
      "cell_type": "code",
      "execution_count": 2,
      "metadata": {
        "id": "9__uM-2HQCZE"
      },
      "outputs": [],
      "source": [
        "import pandas as pd\n",
        "import numpy as np\n",
        "import matplotlib.pyplot as plt\n",
        "import seaborn as sns\n",
        "\n",
        "from sklearn.model_selection import train_test_split, cross_val_score, KFold\n",
        "from sklearn.linear_model import LinearRegression\n",
        "from sklearn.ensemble import RandomForestRegressor\n",
        "from sklearn.metrics import mean_squared_error\n",
        "from xgboost import XGBRegressor\n",
        "from sklearn.metrics import mean_absolute_error, mean_squared_error, r2_score\n",
        "from sklearn.preprocessing import StandardScaler, MinMaxScaler, QuantileTransformer, MaxAbsScaler, RobustScaler\n",
        "\n",
        "from tensorflow.keras.models import Sequential\n",
        "from tensorflow.keras.layers import LSTM, Dense\n",
        "from tensorflow.keras.callbacks import EarlyStopping\n",
        "import tensorflow as tf\n",
        "\n",
        "import torch\n",
        "import torch.nn as nn\n",
        "import torch.optim as optim\n",
        "from torch.utils.data import DataLoader, TensorDataset\n",
        "from sklearn.model_selection import train_test_split"
      ]
    },
    {
      "cell_type": "markdown",
      "metadata": {
        "id": "i4MLWTgMQLBF"
      },
      "source": [
        "## Getting data"
      ]
    },
    {
      "cell_type": "code",
      "execution_count": 3,
      "metadata": {
        "colab": {
          "base_uri": "https://localhost:8080/"
        },
        "id": "prLxINTyP9cO",
        "outputId": "fd67543a-e526-463e-f3df-65f327afe867"
      },
      "outputs": [
        {
          "output_type": "stream",
          "name": "stdout",
          "text": [
            "Mounted at /content/drive\n"
          ]
        }
      ],
      "source": [
        "from google.colab import drive\n",
        "drive.mount('/content/drive')"
      ]
    },
    {
      "cell_type": "code",
      "execution_count": 30,
      "metadata": {
        "colab": {
          "base_uri": "https://localhost:8080/"
        },
        "id": "-cdhei9ZQLon",
        "outputId": "0d683c3c-ad0c-4506-8fa2-b506980c9057"
      },
      "outputs": [
        {
          "output_type": "stream",
          "name": "stderr",
          "text": [
            "<ipython-input-30-77873675e141>:2: DtypeWarning: Columns (2) have mixed types. Specify dtype option on import or set low_memory=False.\n",
            "  df = pd.read_csv(path + \"ready_data.csv\")\n"
          ]
        }
      ],
      "source": [
        "path = \"/content/drive/MyDrive/Colab Notebooks/bus_arr/\"\n",
        "df = pd.read_csv(path + \"ready_data.csv\")"
      ]
    },
    {
      "cell_type": "code",
      "execution_count": 31,
      "metadata": {
        "colab": {
          "base_uri": "https://localhost:8080/",
          "height": 330
        },
        "id": "fc9uGg1IQqHz",
        "outputId": "c7f786ed-7d0b-4400-e004-3319e46a208d"
      },
      "outputs": [
        {
          "output_type": "execute_result",
          "data": {
            "text/plain": [
              "   Unnamed: 0 service_date route_id direction_id  stop_id time_point_id  \\\n",
              "0           0   2024-01-01       01      Inbound      110         hhgat   \n",
              "1           1   2024-01-01       01      Inbound       67         maput   \n",
              "2           2   2024-01-01       01      Inbound       72         cntsq   \n",
              "3           3   2024-01-01       01      Inbound       75           mit   \n",
              "4           4   2024-01-01       01      Inbound       79         hynes   \n",
              "\n",
              "   time_point_order  point_type                  scheduled  \\\n",
              "0                 1  Startpoint  1900-01-01 06:05:00+00:00   \n",
              "1                 2    Midpoint  1900-01-01 06:09:00+00:00   \n",
              "2                 3    Midpoint  1900-01-01 06:12:00+00:00   \n",
              "3                 4    Midpoint  1900-01-01 06:15:00+00:00   \n",
              "4                 5    Midpoint  1900-01-01 06:19:00+00:00   \n",
              "\n",
              "                      actual  scheduled_time  actual_time day_of_week  delay  \\\n",
              "0  1900-01-01 06:05:03+00:00             605          605      Monday    3.0   \n",
              "1  1900-01-01 06:08:17+00:00             609          608      Monday  -43.0   \n",
              "2  1900-01-01 06:12:00+00:00             612          612      Monday    0.0   \n",
              "3  1900-01-01 06:16:50+00:00             615          616      Monday  110.0   \n",
              "4  1900-01-01 06:20:45+00:00             619          620      Monday  105.0   \n",
              "\n",
              "   route_id_c  direction_id_c  time_point_id_c  point_type_c  day_of_week_c  \n",
              "0           0               0              210             2              1  \n",
              "1           0               0              267             1              1  \n",
              "2           0               0              115             1              1  \n",
              "3           0               0              292             1              1  \n",
              "4           0               0              232             1              1  "
            ],
            "text/html": [
              "\n",
              "  <div id=\"df-804890d1-7f76-4863-b171-fd136784235e\" class=\"colab-df-container\">\n",
              "    <div>\n",
              "<style scoped>\n",
              "    .dataframe tbody tr th:only-of-type {\n",
              "        vertical-align: middle;\n",
              "    }\n",
              "\n",
              "    .dataframe tbody tr th {\n",
              "        vertical-align: top;\n",
              "    }\n",
              "\n",
              "    .dataframe thead th {\n",
              "        text-align: right;\n",
              "    }\n",
              "</style>\n",
              "<table border=\"1\" class=\"dataframe\">\n",
              "  <thead>\n",
              "    <tr style=\"text-align: right;\">\n",
              "      <th></th>\n",
              "      <th>Unnamed: 0</th>\n",
              "      <th>service_date</th>\n",
              "      <th>route_id</th>\n",
              "      <th>direction_id</th>\n",
              "      <th>stop_id</th>\n",
              "      <th>time_point_id</th>\n",
              "      <th>time_point_order</th>\n",
              "      <th>point_type</th>\n",
              "      <th>scheduled</th>\n",
              "      <th>actual</th>\n",
              "      <th>scheduled_time</th>\n",
              "      <th>actual_time</th>\n",
              "      <th>day_of_week</th>\n",
              "      <th>delay</th>\n",
              "      <th>route_id_c</th>\n",
              "      <th>direction_id_c</th>\n",
              "      <th>time_point_id_c</th>\n",
              "      <th>point_type_c</th>\n",
              "      <th>day_of_week_c</th>\n",
              "    </tr>\n",
              "  </thead>\n",
              "  <tbody>\n",
              "    <tr>\n",
              "      <th>0</th>\n",
              "      <td>0</td>\n",
              "      <td>2024-01-01</td>\n",
              "      <td>01</td>\n",
              "      <td>Inbound</td>\n",
              "      <td>110</td>\n",
              "      <td>hhgat</td>\n",
              "      <td>1</td>\n",
              "      <td>Startpoint</td>\n",
              "      <td>1900-01-01 06:05:00+00:00</td>\n",
              "      <td>1900-01-01 06:05:03+00:00</td>\n",
              "      <td>605</td>\n",
              "      <td>605</td>\n",
              "      <td>Monday</td>\n",
              "      <td>3.0</td>\n",
              "      <td>0</td>\n",
              "      <td>0</td>\n",
              "      <td>210</td>\n",
              "      <td>2</td>\n",
              "      <td>1</td>\n",
              "    </tr>\n",
              "    <tr>\n",
              "      <th>1</th>\n",
              "      <td>1</td>\n",
              "      <td>2024-01-01</td>\n",
              "      <td>01</td>\n",
              "      <td>Inbound</td>\n",
              "      <td>67</td>\n",
              "      <td>maput</td>\n",
              "      <td>2</td>\n",
              "      <td>Midpoint</td>\n",
              "      <td>1900-01-01 06:09:00+00:00</td>\n",
              "      <td>1900-01-01 06:08:17+00:00</td>\n",
              "      <td>609</td>\n",
              "      <td>608</td>\n",
              "      <td>Monday</td>\n",
              "      <td>-43.0</td>\n",
              "      <td>0</td>\n",
              "      <td>0</td>\n",
              "      <td>267</td>\n",
              "      <td>1</td>\n",
              "      <td>1</td>\n",
              "    </tr>\n",
              "    <tr>\n",
              "      <th>2</th>\n",
              "      <td>2</td>\n",
              "      <td>2024-01-01</td>\n",
              "      <td>01</td>\n",
              "      <td>Inbound</td>\n",
              "      <td>72</td>\n",
              "      <td>cntsq</td>\n",
              "      <td>3</td>\n",
              "      <td>Midpoint</td>\n",
              "      <td>1900-01-01 06:12:00+00:00</td>\n",
              "      <td>1900-01-01 06:12:00+00:00</td>\n",
              "      <td>612</td>\n",
              "      <td>612</td>\n",
              "      <td>Monday</td>\n",
              "      <td>0.0</td>\n",
              "      <td>0</td>\n",
              "      <td>0</td>\n",
              "      <td>115</td>\n",
              "      <td>1</td>\n",
              "      <td>1</td>\n",
              "    </tr>\n",
              "    <tr>\n",
              "      <th>3</th>\n",
              "      <td>3</td>\n",
              "      <td>2024-01-01</td>\n",
              "      <td>01</td>\n",
              "      <td>Inbound</td>\n",
              "      <td>75</td>\n",
              "      <td>mit</td>\n",
              "      <td>4</td>\n",
              "      <td>Midpoint</td>\n",
              "      <td>1900-01-01 06:15:00+00:00</td>\n",
              "      <td>1900-01-01 06:16:50+00:00</td>\n",
              "      <td>615</td>\n",
              "      <td>616</td>\n",
              "      <td>Monday</td>\n",
              "      <td>110.0</td>\n",
              "      <td>0</td>\n",
              "      <td>0</td>\n",
              "      <td>292</td>\n",
              "      <td>1</td>\n",
              "      <td>1</td>\n",
              "    </tr>\n",
              "    <tr>\n",
              "      <th>4</th>\n",
              "      <td>4</td>\n",
              "      <td>2024-01-01</td>\n",
              "      <td>01</td>\n",
              "      <td>Inbound</td>\n",
              "      <td>79</td>\n",
              "      <td>hynes</td>\n",
              "      <td>5</td>\n",
              "      <td>Midpoint</td>\n",
              "      <td>1900-01-01 06:19:00+00:00</td>\n",
              "      <td>1900-01-01 06:20:45+00:00</td>\n",
              "      <td>619</td>\n",
              "      <td>620</td>\n",
              "      <td>Monday</td>\n",
              "      <td>105.0</td>\n",
              "      <td>0</td>\n",
              "      <td>0</td>\n",
              "      <td>232</td>\n",
              "      <td>1</td>\n",
              "      <td>1</td>\n",
              "    </tr>\n",
              "  </tbody>\n",
              "</table>\n",
              "</div>\n",
              "    <div class=\"colab-df-buttons\">\n",
              "\n",
              "  <div class=\"colab-df-container\">\n",
              "    <button class=\"colab-df-convert\" onclick=\"convertToInteractive('df-804890d1-7f76-4863-b171-fd136784235e')\"\n",
              "            title=\"Convert this dataframe to an interactive table.\"\n",
              "            style=\"display:none;\">\n",
              "\n",
              "  <svg xmlns=\"http://www.w3.org/2000/svg\" height=\"24px\" viewBox=\"0 -960 960 960\">\n",
              "    <path d=\"M120-120v-720h720v720H120Zm60-500h600v-160H180v160Zm220 220h160v-160H400v160Zm0 220h160v-160H400v160ZM180-400h160v-160H180v160Zm440 0h160v-160H620v160ZM180-180h160v-160H180v160Zm440 0h160v-160H620v160Z\"/>\n",
              "  </svg>\n",
              "    </button>\n",
              "\n",
              "  <style>\n",
              "    .colab-df-container {\n",
              "      display:flex;\n",
              "      gap: 12px;\n",
              "    }\n",
              "\n",
              "    .colab-df-convert {\n",
              "      background-color: #E8F0FE;\n",
              "      border: none;\n",
              "      border-radius: 50%;\n",
              "      cursor: pointer;\n",
              "      display: none;\n",
              "      fill: #1967D2;\n",
              "      height: 32px;\n",
              "      padding: 0 0 0 0;\n",
              "      width: 32px;\n",
              "    }\n",
              "\n",
              "    .colab-df-convert:hover {\n",
              "      background-color: #E2EBFA;\n",
              "      box-shadow: 0px 1px 2px rgba(60, 64, 67, 0.3), 0px 1px 3px 1px rgba(60, 64, 67, 0.15);\n",
              "      fill: #174EA6;\n",
              "    }\n",
              "\n",
              "    .colab-df-buttons div {\n",
              "      margin-bottom: 4px;\n",
              "    }\n",
              "\n",
              "    [theme=dark] .colab-df-convert {\n",
              "      background-color: #3B4455;\n",
              "      fill: #D2E3FC;\n",
              "    }\n",
              "\n",
              "    [theme=dark] .colab-df-convert:hover {\n",
              "      background-color: #434B5C;\n",
              "      box-shadow: 0px 1px 3px 1px rgba(0, 0, 0, 0.15);\n",
              "      filter: drop-shadow(0px 1px 2px rgba(0, 0, 0, 0.3));\n",
              "      fill: #FFFFFF;\n",
              "    }\n",
              "  </style>\n",
              "\n",
              "    <script>\n",
              "      const buttonEl =\n",
              "        document.querySelector('#df-804890d1-7f76-4863-b171-fd136784235e button.colab-df-convert');\n",
              "      buttonEl.style.display =\n",
              "        google.colab.kernel.accessAllowed ? 'block' : 'none';\n",
              "\n",
              "      async function convertToInteractive(key) {\n",
              "        const element = document.querySelector('#df-804890d1-7f76-4863-b171-fd136784235e');\n",
              "        const dataTable =\n",
              "          await google.colab.kernel.invokeFunction('convertToInteractive',\n",
              "                                                    [key], {});\n",
              "        if (!dataTable) return;\n",
              "\n",
              "        const docLinkHtml = 'Like what you see? Visit the ' +\n",
              "          '<a target=\"_blank\" href=https://colab.research.google.com/notebooks/data_table.ipynb>data table notebook</a>'\n",
              "          + ' to learn more about interactive tables.';\n",
              "        element.innerHTML = '';\n",
              "        dataTable['output_type'] = 'display_data';\n",
              "        await google.colab.output.renderOutput(dataTable, element);\n",
              "        const docLink = document.createElement('div');\n",
              "        docLink.innerHTML = docLinkHtml;\n",
              "        element.appendChild(docLink);\n",
              "      }\n",
              "    </script>\n",
              "  </div>\n",
              "\n",
              "\n",
              "<div id=\"df-66b22ade-d803-410c-8a65-e416360a419c\">\n",
              "  <button class=\"colab-df-quickchart\" onclick=\"quickchart('df-66b22ade-d803-410c-8a65-e416360a419c')\"\n",
              "            title=\"Suggest charts\"\n",
              "            style=\"display:none;\">\n",
              "\n",
              "<svg xmlns=\"http://www.w3.org/2000/svg\" height=\"24px\"viewBox=\"0 0 24 24\"\n",
              "     width=\"24px\">\n",
              "    <g>\n",
              "        <path d=\"M19 3H5c-1.1 0-2 .9-2 2v14c0 1.1.9 2 2 2h14c1.1 0 2-.9 2-2V5c0-1.1-.9-2-2-2zM9 17H7v-7h2v7zm4 0h-2V7h2v10zm4 0h-2v-4h2v4z\"/>\n",
              "    </g>\n",
              "</svg>\n",
              "  </button>\n",
              "\n",
              "<style>\n",
              "  .colab-df-quickchart {\n",
              "      --bg-color: #E8F0FE;\n",
              "      --fill-color: #1967D2;\n",
              "      --hover-bg-color: #E2EBFA;\n",
              "      --hover-fill-color: #174EA6;\n",
              "      --disabled-fill-color: #AAA;\n",
              "      --disabled-bg-color: #DDD;\n",
              "  }\n",
              "\n",
              "  [theme=dark] .colab-df-quickchart {\n",
              "      --bg-color: #3B4455;\n",
              "      --fill-color: #D2E3FC;\n",
              "      --hover-bg-color: #434B5C;\n",
              "      --hover-fill-color: #FFFFFF;\n",
              "      --disabled-bg-color: #3B4455;\n",
              "      --disabled-fill-color: #666;\n",
              "  }\n",
              "\n",
              "  .colab-df-quickchart {\n",
              "    background-color: var(--bg-color);\n",
              "    border: none;\n",
              "    border-radius: 50%;\n",
              "    cursor: pointer;\n",
              "    display: none;\n",
              "    fill: var(--fill-color);\n",
              "    height: 32px;\n",
              "    padding: 0;\n",
              "    width: 32px;\n",
              "  }\n",
              "\n",
              "  .colab-df-quickchart:hover {\n",
              "    background-color: var(--hover-bg-color);\n",
              "    box-shadow: 0 1px 2px rgba(60, 64, 67, 0.3), 0 1px 3px 1px rgba(60, 64, 67, 0.15);\n",
              "    fill: var(--button-hover-fill-color);\n",
              "  }\n",
              "\n",
              "  .colab-df-quickchart-complete:disabled,\n",
              "  .colab-df-quickchart-complete:disabled:hover {\n",
              "    background-color: var(--disabled-bg-color);\n",
              "    fill: var(--disabled-fill-color);\n",
              "    box-shadow: none;\n",
              "  }\n",
              "\n",
              "  .colab-df-spinner {\n",
              "    border: 2px solid var(--fill-color);\n",
              "    border-color: transparent;\n",
              "    border-bottom-color: var(--fill-color);\n",
              "    animation:\n",
              "      spin 1s steps(1) infinite;\n",
              "  }\n",
              "\n",
              "  @keyframes spin {\n",
              "    0% {\n",
              "      border-color: transparent;\n",
              "      border-bottom-color: var(--fill-color);\n",
              "      border-left-color: var(--fill-color);\n",
              "    }\n",
              "    20% {\n",
              "      border-color: transparent;\n",
              "      border-left-color: var(--fill-color);\n",
              "      border-top-color: var(--fill-color);\n",
              "    }\n",
              "    30% {\n",
              "      border-color: transparent;\n",
              "      border-left-color: var(--fill-color);\n",
              "      border-top-color: var(--fill-color);\n",
              "      border-right-color: var(--fill-color);\n",
              "    }\n",
              "    40% {\n",
              "      border-color: transparent;\n",
              "      border-right-color: var(--fill-color);\n",
              "      border-top-color: var(--fill-color);\n",
              "    }\n",
              "    60% {\n",
              "      border-color: transparent;\n",
              "      border-right-color: var(--fill-color);\n",
              "    }\n",
              "    80% {\n",
              "      border-color: transparent;\n",
              "      border-right-color: var(--fill-color);\n",
              "      border-bottom-color: var(--fill-color);\n",
              "    }\n",
              "    90% {\n",
              "      border-color: transparent;\n",
              "      border-bottom-color: var(--fill-color);\n",
              "    }\n",
              "  }\n",
              "</style>\n",
              "\n",
              "  <script>\n",
              "    async function quickchart(key) {\n",
              "      const quickchartButtonEl =\n",
              "        document.querySelector('#' + key + ' button');\n",
              "      quickchartButtonEl.disabled = true;  // To prevent multiple clicks.\n",
              "      quickchartButtonEl.classList.add('colab-df-spinner');\n",
              "      try {\n",
              "        const charts = await google.colab.kernel.invokeFunction(\n",
              "            'suggestCharts', [key], {});\n",
              "      } catch (error) {\n",
              "        console.error('Error during call to suggestCharts:', error);\n",
              "      }\n",
              "      quickchartButtonEl.classList.remove('colab-df-spinner');\n",
              "      quickchartButtonEl.classList.add('colab-df-quickchart-complete');\n",
              "    }\n",
              "    (() => {\n",
              "      let quickchartButtonEl =\n",
              "        document.querySelector('#df-66b22ade-d803-410c-8a65-e416360a419c button');\n",
              "      quickchartButtonEl.style.display =\n",
              "        google.colab.kernel.accessAllowed ? 'block' : 'none';\n",
              "    })();\n",
              "  </script>\n",
              "</div>\n",
              "\n",
              "    </div>\n",
              "  </div>\n"
            ],
            "application/vnd.google.colaboratory.intrinsic+json": {
              "type": "dataframe",
              "variable_name": "df"
            }
          },
          "metadata": {},
          "execution_count": 31
        }
      ],
      "source": [
        "df.head()"
      ]
    },
    {
      "cell_type": "code",
      "execution_count": 32,
      "metadata": {
        "id": "DrrDPRm-QCWZ"
      },
      "outputs": [],
      "source": [
        "np.random.seed(42)\n",
        "tf.random.set_seed(42)"
      ]
    },
    {
      "cell_type": "markdown",
      "metadata": {
        "id": "D3l0yUoaQQ_v"
      },
      "source": [
        "## Drop columns that I found irrelevant and those that are not numerical and changing delay to minutes (other stuff such as encoding, etc.)"
      ]
    },
    {
      "cell_type": "code",
      "execution_count": 33,
      "metadata": {
        "id": "pUsJgXDmnyhM"
      },
      "outputs": [],
      "source": [
        "df.drop(['service_date', 'route_id', 'direction_id', 'time_point_id', 'point_type', 'scheduled', 'actual', 'day_of_week'], axis=1, inplace=True)\n",
        "df['delay'] = df['delay'].astype(int)"
      ]
    },
    {
      "cell_type": "code",
      "execution_count": 34,
      "metadata": {
        "id": "6-fVrczNw09L"
      },
      "outputs": [],
      "source": [
        "df.drop(['Unnamed: 0', 'actual_time', 'time_point_id_c'], axis=1, inplace=True)"
      ]
    },
    {
      "cell_type": "code",
      "execution_count": 35,
      "metadata": {
        "id": "80ERJo35yPlg"
      },
      "outputs": [],
      "source": [
        "df['delay'] = df['delay'] / 60"
      ]
    },
    {
      "cell_type": "code",
      "execution_count": 36,
      "metadata": {
        "id": "jI1dNP2qzRvz"
      },
      "outputs": [],
      "source": [
        "df.rename(columns={'route_id_c': 'route_id', 'direction_id_c': 'direction_id',\n",
        "                   'point_type_c': 'point_type', 'day_of_week_c': 'day_of_week'}, inplace=True)"
      ]
    },
    {
      "cell_type": "code",
      "execution_count": 38,
      "metadata": {
        "id": "p5FewTp3HYhU"
      },
      "outputs": [],
      "source": [
        "df['scheduled_hour'] = df['scheduled_time'] // 100\n",
        "df['scheduled_minute'] = df['scheduled_time'] % 100"
      ]
    },
    {
      "cell_type": "code",
      "execution_count": 39,
      "metadata": {
        "id": "5GI9k9ayQ2EH"
      },
      "outputs": [],
      "source": [
        "df.drop(['scheduled_time', 'time_point_order', 'point_type'], axis=1, inplace=True)"
      ]
    },
    {
      "cell_type": "code",
      "execution_count": 40,
      "metadata": {
        "colab": {
          "base_uri": "https://localhost:8080/",
          "height": 206
        },
        "id": "VCa7tzHFQCRB",
        "outputId": "26f46e14-d304-4921-9ed6-cc00a4082824"
      },
      "outputs": [
        {
          "output_type": "execute_result",
          "data": {
            "text/plain": [
              "   stop_id     delay  route_id  direction_id  day_of_week  scheduled_hour  \\\n",
              "0      110  0.050000         0             0            1               6   \n",
              "1       67 -0.716667         0             0            1               6   \n",
              "2       72  0.000000         0             0            1               6   \n",
              "3       75  1.833333         0             0            1               6   \n",
              "4       79  1.750000         0             0            1               6   \n",
              "\n",
              "   scheduled_minute  \n",
              "0                 5  \n",
              "1                 9  \n",
              "2                12  \n",
              "3                15  \n",
              "4                19  "
            ],
            "text/html": [
              "\n",
              "  <div id=\"df-4ead6060-2ad8-4efe-848d-f6f16c3cd0dc\" class=\"colab-df-container\">\n",
              "    <div>\n",
              "<style scoped>\n",
              "    .dataframe tbody tr th:only-of-type {\n",
              "        vertical-align: middle;\n",
              "    }\n",
              "\n",
              "    .dataframe tbody tr th {\n",
              "        vertical-align: top;\n",
              "    }\n",
              "\n",
              "    .dataframe thead th {\n",
              "        text-align: right;\n",
              "    }\n",
              "</style>\n",
              "<table border=\"1\" class=\"dataframe\">\n",
              "  <thead>\n",
              "    <tr style=\"text-align: right;\">\n",
              "      <th></th>\n",
              "      <th>stop_id</th>\n",
              "      <th>delay</th>\n",
              "      <th>route_id</th>\n",
              "      <th>direction_id</th>\n",
              "      <th>day_of_week</th>\n",
              "      <th>scheduled_hour</th>\n",
              "      <th>scheduled_minute</th>\n",
              "    </tr>\n",
              "  </thead>\n",
              "  <tbody>\n",
              "    <tr>\n",
              "      <th>0</th>\n",
              "      <td>110</td>\n",
              "      <td>0.050000</td>\n",
              "      <td>0</td>\n",
              "      <td>0</td>\n",
              "      <td>1</td>\n",
              "      <td>6</td>\n",
              "      <td>5</td>\n",
              "    </tr>\n",
              "    <tr>\n",
              "      <th>1</th>\n",
              "      <td>67</td>\n",
              "      <td>-0.716667</td>\n",
              "      <td>0</td>\n",
              "      <td>0</td>\n",
              "      <td>1</td>\n",
              "      <td>6</td>\n",
              "      <td>9</td>\n",
              "    </tr>\n",
              "    <tr>\n",
              "      <th>2</th>\n",
              "      <td>72</td>\n",
              "      <td>0.000000</td>\n",
              "      <td>0</td>\n",
              "      <td>0</td>\n",
              "      <td>1</td>\n",
              "      <td>6</td>\n",
              "      <td>12</td>\n",
              "    </tr>\n",
              "    <tr>\n",
              "      <th>3</th>\n",
              "      <td>75</td>\n",
              "      <td>1.833333</td>\n",
              "      <td>0</td>\n",
              "      <td>0</td>\n",
              "      <td>1</td>\n",
              "      <td>6</td>\n",
              "      <td>15</td>\n",
              "    </tr>\n",
              "    <tr>\n",
              "      <th>4</th>\n",
              "      <td>79</td>\n",
              "      <td>1.750000</td>\n",
              "      <td>0</td>\n",
              "      <td>0</td>\n",
              "      <td>1</td>\n",
              "      <td>6</td>\n",
              "      <td>19</td>\n",
              "    </tr>\n",
              "  </tbody>\n",
              "</table>\n",
              "</div>\n",
              "    <div class=\"colab-df-buttons\">\n",
              "\n",
              "  <div class=\"colab-df-container\">\n",
              "    <button class=\"colab-df-convert\" onclick=\"convertToInteractive('df-4ead6060-2ad8-4efe-848d-f6f16c3cd0dc')\"\n",
              "            title=\"Convert this dataframe to an interactive table.\"\n",
              "            style=\"display:none;\">\n",
              "\n",
              "  <svg xmlns=\"http://www.w3.org/2000/svg\" height=\"24px\" viewBox=\"0 -960 960 960\">\n",
              "    <path d=\"M120-120v-720h720v720H120Zm60-500h600v-160H180v160Zm220 220h160v-160H400v160Zm0 220h160v-160H400v160ZM180-400h160v-160H180v160Zm440 0h160v-160H620v160ZM180-180h160v-160H180v160Zm440 0h160v-160H620v160Z\"/>\n",
              "  </svg>\n",
              "    </button>\n",
              "\n",
              "  <style>\n",
              "    .colab-df-container {\n",
              "      display:flex;\n",
              "      gap: 12px;\n",
              "    }\n",
              "\n",
              "    .colab-df-convert {\n",
              "      background-color: #E8F0FE;\n",
              "      border: none;\n",
              "      border-radius: 50%;\n",
              "      cursor: pointer;\n",
              "      display: none;\n",
              "      fill: #1967D2;\n",
              "      height: 32px;\n",
              "      padding: 0 0 0 0;\n",
              "      width: 32px;\n",
              "    }\n",
              "\n",
              "    .colab-df-convert:hover {\n",
              "      background-color: #E2EBFA;\n",
              "      box-shadow: 0px 1px 2px rgba(60, 64, 67, 0.3), 0px 1px 3px 1px rgba(60, 64, 67, 0.15);\n",
              "      fill: #174EA6;\n",
              "    }\n",
              "\n",
              "    .colab-df-buttons div {\n",
              "      margin-bottom: 4px;\n",
              "    }\n",
              "\n",
              "    [theme=dark] .colab-df-convert {\n",
              "      background-color: #3B4455;\n",
              "      fill: #D2E3FC;\n",
              "    }\n",
              "\n",
              "    [theme=dark] .colab-df-convert:hover {\n",
              "      background-color: #434B5C;\n",
              "      box-shadow: 0px 1px 3px 1px rgba(0, 0, 0, 0.15);\n",
              "      filter: drop-shadow(0px 1px 2px rgba(0, 0, 0, 0.3));\n",
              "      fill: #FFFFFF;\n",
              "    }\n",
              "  </style>\n",
              "\n",
              "    <script>\n",
              "      const buttonEl =\n",
              "        document.querySelector('#df-4ead6060-2ad8-4efe-848d-f6f16c3cd0dc button.colab-df-convert');\n",
              "      buttonEl.style.display =\n",
              "        google.colab.kernel.accessAllowed ? 'block' : 'none';\n",
              "\n",
              "      async function convertToInteractive(key) {\n",
              "        const element = document.querySelector('#df-4ead6060-2ad8-4efe-848d-f6f16c3cd0dc');\n",
              "        const dataTable =\n",
              "          await google.colab.kernel.invokeFunction('convertToInteractive',\n",
              "                                                    [key], {});\n",
              "        if (!dataTable) return;\n",
              "\n",
              "        const docLinkHtml = 'Like what you see? Visit the ' +\n",
              "          '<a target=\"_blank\" href=https://colab.research.google.com/notebooks/data_table.ipynb>data table notebook</a>'\n",
              "          + ' to learn more about interactive tables.';\n",
              "        element.innerHTML = '';\n",
              "        dataTable['output_type'] = 'display_data';\n",
              "        await google.colab.output.renderOutput(dataTable, element);\n",
              "        const docLink = document.createElement('div');\n",
              "        docLink.innerHTML = docLinkHtml;\n",
              "        element.appendChild(docLink);\n",
              "      }\n",
              "    </script>\n",
              "  </div>\n",
              "\n",
              "\n",
              "<div id=\"df-c2cd9642-119c-4553-9c34-19f5a442bc31\">\n",
              "  <button class=\"colab-df-quickchart\" onclick=\"quickchart('df-c2cd9642-119c-4553-9c34-19f5a442bc31')\"\n",
              "            title=\"Suggest charts\"\n",
              "            style=\"display:none;\">\n",
              "\n",
              "<svg xmlns=\"http://www.w3.org/2000/svg\" height=\"24px\"viewBox=\"0 0 24 24\"\n",
              "     width=\"24px\">\n",
              "    <g>\n",
              "        <path d=\"M19 3H5c-1.1 0-2 .9-2 2v14c0 1.1.9 2 2 2h14c1.1 0 2-.9 2-2V5c0-1.1-.9-2-2-2zM9 17H7v-7h2v7zm4 0h-2V7h2v10zm4 0h-2v-4h2v4z\"/>\n",
              "    </g>\n",
              "</svg>\n",
              "  </button>\n",
              "\n",
              "<style>\n",
              "  .colab-df-quickchart {\n",
              "      --bg-color: #E8F0FE;\n",
              "      --fill-color: #1967D2;\n",
              "      --hover-bg-color: #E2EBFA;\n",
              "      --hover-fill-color: #174EA6;\n",
              "      --disabled-fill-color: #AAA;\n",
              "      --disabled-bg-color: #DDD;\n",
              "  }\n",
              "\n",
              "  [theme=dark] .colab-df-quickchart {\n",
              "      --bg-color: #3B4455;\n",
              "      --fill-color: #D2E3FC;\n",
              "      --hover-bg-color: #434B5C;\n",
              "      --hover-fill-color: #FFFFFF;\n",
              "      --disabled-bg-color: #3B4455;\n",
              "      --disabled-fill-color: #666;\n",
              "  }\n",
              "\n",
              "  .colab-df-quickchart {\n",
              "    background-color: var(--bg-color);\n",
              "    border: none;\n",
              "    border-radius: 50%;\n",
              "    cursor: pointer;\n",
              "    display: none;\n",
              "    fill: var(--fill-color);\n",
              "    height: 32px;\n",
              "    padding: 0;\n",
              "    width: 32px;\n",
              "  }\n",
              "\n",
              "  .colab-df-quickchart:hover {\n",
              "    background-color: var(--hover-bg-color);\n",
              "    box-shadow: 0 1px 2px rgba(60, 64, 67, 0.3), 0 1px 3px 1px rgba(60, 64, 67, 0.15);\n",
              "    fill: var(--button-hover-fill-color);\n",
              "  }\n",
              "\n",
              "  .colab-df-quickchart-complete:disabled,\n",
              "  .colab-df-quickchart-complete:disabled:hover {\n",
              "    background-color: var(--disabled-bg-color);\n",
              "    fill: var(--disabled-fill-color);\n",
              "    box-shadow: none;\n",
              "  }\n",
              "\n",
              "  .colab-df-spinner {\n",
              "    border: 2px solid var(--fill-color);\n",
              "    border-color: transparent;\n",
              "    border-bottom-color: var(--fill-color);\n",
              "    animation:\n",
              "      spin 1s steps(1) infinite;\n",
              "  }\n",
              "\n",
              "  @keyframes spin {\n",
              "    0% {\n",
              "      border-color: transparent;\n",
              "      border-bottom-color: var(--fill-color);\n",
              "      border-left-color: var(--fill-color);\n",
              "    }\n",
              "    20% {\n",
              "      border-color: transparent;\n",
              "      border-left-color: var(--fill-color);\n",
              "      border-top-color: var(--fill-color);\n",
              "    }\n",
              "    30% {\n",
              "      border-color: transparent;\n",
              "      border-left-color: var(--fill-color);\n",
              "      border-top-color: var(--fill-color);\n",
              "      border-right-color: var(--fill-color);\n",
              "    }\n",
              "    40% {\n",
              "      border-color: transparent;\n",
              "      border-right-color: var(--fill-color);\n",
              "      border-top-color: var(--fill-color);\n",
              "    }\n",
              "    60% {\n",
              "      border-color: transparent;\n",
              "      border-right-color: var(--fill-color);\n",
              "    }\n",
              "    80% {\n",
              "      border-color: transparent;\n",
              "      border-right-color: var(--fill-color);\n",
              "      border-bottom-color: var(--fill-color);\n",
              "    }\n",
              "    90% {\n",
              "      border-color: transparent;\n",
              "      border-bottom-color: var(--fill-color);\n",
              "    }\n",
              "  }\n",
              "</style>\n",
              "\n",
              "  <script>\n",
              "    async function quickchart(key) {\n",
              "      const quickchartButtonEl =\n",
              "        document.querySelector('#' + key + ' button');\n",
              "      quickchartButtonEl.disabled = true;  // To prevent multiple clicks.\n",
              "      quickchartButtonEl.classList.add('colab-df-spinner');\n",
              "      try {\n",
              "        const charts = await google.colab.kernel.invokeFunction(\n",
              "            'suggestCharts', [key], {});\n",
              "      } catch (error) {\n",
              "        console.error('Error during call to suggestCharts:', error);\n",
              "      }\n",
              "      quickchartButtonEl.classList.remove('colab-df-spinner');\n",
              "      quickchartButtonEl.classList.add('colab-df-quickchart-complete');\n",
              "    }\n",
              "    (() => {\n",
              "      let quickchartButtonEl =\n",
              "        document.querySelector('#df-c2cd9642-119c-4553-9c34-19f5a442bc31 button');\n",
              "      quickchartButtonEl.style.display =\n",
              "        google.colab.kernel.accessAllowed ? 'block' : 'none';\n",
              "    })();\n",
              "  </script>\n",
              "</div>\n",
              "\n",
              "    </div>\n",
              "  </div>\n"
            ],
            "application/vnd.google.colaboratory.intrinsic+json": {
              "type": "dataframe",
              "variable_name": "df"
            }
          },
          "metadata": {},
          "execution_count": 40
        }
      ],
      "source": [
        "df.head()"
      ]
    },
    {
      "cell_type": "markdown",
      "metadata": {
        "id": "zFBys5LarOgx"
      },
      "source": [
        "```\n",
        "```\n",
        "```\n",
        "```\n",
        "```\n",
        "```\n"
      ]
    },
    {
      "cell_type": "markdown",
      "metadata": {
        "id": "PllBpNH8Q4cV"
      },
      "source": [
        "## Dividing dataset into train and test"
      ]
    },
    {
      "cell_type": "code",
      "execution_count": 64,
      "metadata": {
        "id": "4HYmpokBUWZQ"
      },
      "outputs": [],
      "source": [
        "train, test = train_test_split(df, test_size=0.2, random_state=42)"
      ]
    },
    {
      "cell_type": "code",
      "execution_count": 65,
      "metadata": {
        "colab": {
          "base_uri": "https://localhost:8080/"
        },
        "id": "d578d419",
        "outputId": "3dc3083d-ab5c-4f38-f2d9-91ab192ae7ea"
      },
      "outputs": [
        {
          "output_type": "stream",
          "name": "stdout",
          "text": [
            "NaNs in train DataFrame:\n",
            " stop_id             0\n",
            "delay               0\n",
            "route_id            0\n",
            "direction_id        0\n",
            "day_of_week         0\n",
            "scheduled_hour      0\n",
            "scheduled_minute    0\n",
            "dtype: int64\n"
          ]
        }
      ],
      "source": [
        "X_train = train.drop(['delay'], axis=1)\n",
        "y_train = train['delay']\n",
        "X_test = test.drop(['delay'], axis=1)\n",
        "y_test = test['delay']\n",
        "# Check for NaN values in the DataFrame\n",
        "print(\"NaNs in train DataFrame:\\n\", train.isna().sum())"
      ]
    },
    {
      "cell_type": "code",
      "execution_count": 48,
      "metadata": {
        "id": "5c99a356"
      },
      "outputs": [],
      "source": [
        "def rmse(y_true, y_pred):\n",
        "    return np.sqrt(mean_squared_error(y_true, y_pred))"
      ]
    },
    {
      "cell_type": "markdown",
      "metadata": {
        "id": "8JklbdxTRXCv"
      },
      "source": [
        "## Models\n",
        "### Linear Regression"
      ]
    },
    {
      "cell_type": "code",
      "execution_count": 51,
      "metadata": {
        "colab": {
          "base_uri": "https://localhost:8080/"
        },
        "id": "b0362827",
        "outputId": "08bda384-f182-4932-d531-8f955de9ad71"
      },
      "outputs": [
        {
          "output_type": "stream",
          "name": "stdout",
          "text": [
            "Training Linear Regression...\n",
            "Linear Regression Test RMSE: 6.1017\n",
            "Linear Regression Test MAE:  4.1920\n",
            "Linear Regression 5-Fold CV RMSE: 6.1133\n",
            "\n"
          ]
        }
      ],
      "source": [
        "print(\"Training Linear Regression...\")\n",
        "lin_reg = LinearRegression()\n",
        "lin_reg.fit(X_train, y_train)\n",
        "\n",
        "y_pred_lin = lin_reg.predict(X_test)\n",
        "rmse_lin = rmse(y_test, y_pred_lin)\n",
        "mae_lin = mean_absolute_error(y_test, y_pred_lin)\n",
        "\n",
        "print(f\"Linear Regression Test RMSE: {rmse_lin:.4f}\")\n",
        "print(f\"Linear Regression Test MAE:  {mae_lin:.4f}\")\n",
        "\n",
        "cv_lin = cross_val_score(lin_reg, X_train, y_train, cv=KFold(5, shuffle=True, random_state=42), scoring='neg_mean_squared_error')\n",
        "cv_lin_rmse = np.sqrt(-cv_lin.mean())\n",
        "print(f\"Linear Regression 5-Fold CV RMSE: {cv_lin_rmse:.4f}\\n\")"
      ]
    },
    {
      "cell_type": "markdown",
      "metadata": {
        "id": "lduP1-VVRfou"
      },
      "source": [
        "### Random Forest"
      ]
    },
    {
      "cell_type": "code",
      "execution_count": 52,
      "metadata": {
        "colab": {
          "base_uri": "https://localhost:8080/"
        },
        "id": "90311f1e",
        "outputId": "ac2fd5c2-4012-40d0-9fc5-7d61740b65ec"
      },
      "outputs": [
        {
          "output_type": "stream",
          "name": "stdout",
          "text": [
            "Training Random Forest Regressor...\n",
            "Random Forest Test RMSE: 5.3264\n",
            "Random Forest Test MAE:  3.5640\n"
          ]
        }
      ],
      "source": [
        "print(\"Training Random Forest Regressor...\")\n",
        "rf_reg = RandomForestRegressor(n_estimators=50, random_state=42, n_jobs=-1)\n",
        "rf_reg.fit(X_train, y_train)\n",
        "\n",
        "y_pred_rf = rf_reg.predict(X_test)\n",
        "rmse_rf = rmse(y_test, y_pred_rf)\n",
        "mae_rf = mean_absolute_error(y_test, y_pred_rf)\n",
        "\n",
        "print(f\"Random Forest Test RMSE: {rmse_rf:.4f}\")\n",
        "print(f\"Random Forest Test MAE:  {mae_rf:.4f}\")"
      ]
    },
    {
      "cell_type": "markdown",
      "metadata": {
        "id": "CuzEU-WMRh2d"
      },
      "source": [
        "### XGBoost"
      ]
    },
    {
      "cell_type": "code",
      "execution_count": 18,
      "metadata": {
        "id": "yeBKqC5-orxY"
      },
      "outputs": [],
      "source": [
        "device = torch.device(\"cuda\" if torch.cuda.is_available() else \"cpu\")"
      ]
    },
    {
      "cell_type": "code",
      "execution_count": 53,
      "metadata": {
        "colab": {
          "base_uri": "https://localhost:8080/"
        },
        "id": "IJ4qtSQYoDZp",
        "outputId": "6ed88651-9e8d-4605-a3b4-274ca18ba98e"
      },
      "outputs": [
        {
          "output_type": "stream",
          "name": "stdout",
          "text": [
            "Training XGBoost Regressor...\n",
            "XGBoost Test RMSE: 5.2691\n",
            "XGBoost Test MAE:  3.6030\n",
            "XGBoost Test R²:   0.2630\n"
          ]
        }
      ],
      "source": [
        "print(\"Training XGBoost Regressor...\")\n",
        "xgb_reg = XGBRegressor(n_estimators=100, random_state=42, verbosity=0, device=device)\n",
        "xgb_reg.fit(X_train, y_train)\n",
        "\n",
        "y_pred_xgb = xgb_reg.predict(X_test)\n",
        "rmse_xgb = rmse(y_test, y_pred_xgb)\n",
        "mae_xgb = mean_absolute_error(y_test, y_pred_xgb)\n",
        "r2_xgb = r2_score(y_test, y_pred_xgb)\n",
        "\n",
        "print(f\"XGBoost Test RMSE: {rmse_xgb:.4f}\")\n",
        "print(f\"XGBoost Test MAE:  {mae_xgb:.4f}\")\n",
        "print(f\"XGBoost Test R²:   {r2_xgb:.4f}\")"
      ]
    },
    {
      "cell_type": "markdown",
      "metadata": {
        "id": "x0GaycfEPDXQ"
      },
      "source": [
        "## Neural Network models\n",
        "### LSTM nn"
      ]
    },
    {
      "cell_type": "code",
      "execution_count": 67,
      "metadata": {
        "id": "ZkP1zP3_t5fJ"
      },
      "outputs": [],
      "source": [
        "n_features = X_train.shape[1]\n",
        "\n",
        "# First, split X_train into a (reduced) training set and a validation set for early stopping.\n",
        "X_train_sub, X_val, y_train_sub, y_val = train_test_split(X_train, y_train, test_size=0.2, random_state=42)\n",
        "\n",
        "# Convert training and validation sets to tensors\n",
        "X_train_sub_tensor = torch.tensor(X_train_sub.values.reshape(X_train_sub.shape[0], 1, n_features), dtype=torch.float32)\n",
        "y_train_sub_tensor = torch.tensor(y_train_sub.values, dtype=torch.float32)\n",
        "X_val_tensor = torch.tensor(X_val.values.reshape(X_val.shape[0], 1, n_features), dtype=torch.float32)\n",
        "y_val_tensor = torch.tensor(y_val.values, dtype=torch.float32)\n",
        "\n",
        "# Also convert the test set to tensors\n",
        "X_test_tensor = torch.tensor(X_test.values.reshape(X_test.shape[0], 1, n_features), dtype=torch.float32)\n",
        "y_test_tensor = torch.tensor(y_test.values, dtype=torch.float32)\n",
        "\n",
        "# Create DataLoader for training\n",
        "train_dataset = TensorDataset(X_train_sub_tensor, y_train_sub_tensor)\n",
        "train_loader = DataLoader(train_dataset, batch_size=64, shuffle=True)"
      ]
    },
    {
      "cell_type": "code",
      "execution_count": 70,
      "metadata": {
        "id": "Zubl8EMwuD_V"
      },
      "outputs": [],
      "source": [
        "class LSTMRegressor(nn.Module):\n",
        "    def __init__(self, input_size, hidden_size, num_layers=2):\n",
        "        super(LSTMRegressor, self).__init__()\n",
        "        self.lstm = nn.LSTM(input_size, hidden_size, num_layers, batch_first=True, dropout=0.1)\n",
        "        self.fc = nn.Linear(hidden_size, 1)\n",
        "\n",
        "    def forward(self, x):\n",
        "        lstm_out, _ = self.lstm(x)\n",
        "\n",
        "        out = self.fc(lstm_out[:, -1, :])\n",
        "        return out.squeeze()"
      ]
    },
    {
      "cell_type": "code",
      "execution_count": 72,
      "metadata": {
        "id": "8IZAMX5vuH7S"
      },
      "outputs": [],
      "source": [
        "hidden_size = 75\n",
        "model = LSTMRegressor(input_size=n_features, hidden_size=hidden_size).to(device)\n",
        "\n",
        "criterion = nn.MSELoss()\n",
        "optimizer = optim.Adam(model.parameters(), lr=0.0005)"
      ]
    },
    {
      "cell_type": "code",
      "execution_count": 73,
      "metadata": {
        "colab": {
          "base_uri": "https://localhost:8080/"
        },
        "id": "9TV5p81WuHyL",
        "outputId": "2ecd0ab8-5272-4092-9081-9d05123b9895"
      },
      "outputs": [
        {
          "output_type": "stream",
          "name": "stdout",
          "text": [
            "Epoch 1/10 - Train Loss: 23.972915\n",
            "Epoch 2/10 - Train Loss: 23.804105\n",
            "Epoch 3/10 - Train Loss: 23.870343\n",
            "Epoch 4/10 - Train Loss: 23.735984\n",
            "Epoch 5/10 - Train Loss: 23.704693\n",
            "Epoch 6/10 - Train Loss: 23.670189\n",
            "Epoch 7/10 - Train Loss: 23.637963\n",
            "Epoch 8/10 - Train Loss: 23.654058\n",
            "Epoch 9/10 - Train Loss: 23.605806\n",
            "Epoch 10/10 - Train Loss: 23.568846\n"
          ]
        },
        {
          "output_type": "execute_result",
          "data": {
            "text/plain": [
              "<All keys matched successfully>"
            ]
          },
          "metadata": {},
          "execution_count": 73
        }
      ],
      "source": [
        "num_epochs = 10\n",
        "patience = 5\n",
        "best_loss = np.inf\n",
        "patience_counter = 0\n",
        "\n",
        "for epoch in range(num_epochs):\n",
        "    model.train()\n",
        "    train_losses = []\n",
        "\n",
        "    for batch_X, batch_y in train_loader:\n",
        "        batch_X = batch_X.to(device)\n",
        "        batch_y = batch_y.to(device)\n",
        "\n",
        "        optimizer.zero_grad()\n",
        "        outputs = model(batch_X)\n",
        "        loss = criterion(outputs, batch_y)\n",
        "        loss.backward()\n",
        "        optimizer.step()\n",
        "\n",
        "        train_losses.append(loss.item())\n",
        "\n",
        "    avg_train_loss = np.mean(train_losses)\n",
        "\n",
        "    print(f\"Epoch {epoch+1}/{num_epochs} - Train Loss: {avg_train_loss:.6f}\")\n",
        "\n",
        "    if avg_train_loss < best_loss:\n",
        "        best_loss = avg_train_loss\n",
        "        patience_counter = 0\n",
        "        best_model_state = model.state_dict()\n",
        "    else:\n",
        "        patience_counter += 1\n",
        "        if patience_counter >= patience:\n",
        "            print(\"Early stopping triggered!\")\n",
        "            break\n",
        "\n",
        "model.load_state_dict(best_model_state)"
      ]
    },
    {
      "cell_type": "code",
      "execution_count": 74,
      "metadata": {
        "colab": {
          "base_uri": "https://localhost:8080/"
        },
        "id": "HXpgTdV7uNi8",
        "outputId": "c658e881-24f3-46ce-d895-09b70c93c2bb"
      },
      "outputs": [
        {
          "output_type": "stream",
          "name": "stdout",
          "text": [
            "LSTM Test RMSE: 4.8508\n",
            "LSTM Test MAE:  3.6277\n"
          ]
        }
      ],
      "source": [
        "model.eval()\n",
        "with torch.no_grad():\n",
        "    test_outputs = model(X_test_tensor.to(device))\n",
        "    test_loss = criterion(test_outputs, y_test_tensor.to(device)).item()\n",
        "rmse_lstm = np.sqrt(test_loss)\n",
        "\n",
        "lstm_predictions = test_outputs.cpu().numpy() if device.type == 'cuda' else test_outputs.numpy()\n",
        "mae_lstm = mean_absolute_error(y_test, lstm_predictions)\n",
        "\n",
        "print(f\"LSTM Test RMSE: {rmse_lstm:.4f}\")\n",
        "print(f\"LSTM Test MAE:  {mae_lstm:.4f}\")"
      ]
    },
    {
      "cell_type": "markdown",
      "metadata": {
        "id": "UHjt2EooRun-"
      },
      "source": [
        "### CNN"
      ]
    },
    {
      "cell_type": "code",
      "execution_count": 75,
      "metadata": {
        "id": "0MjphQIf7lJo"
      },
      "outputs": [],
      "source": [
        "class CNNRegressor(nn.Module):\n",
        "    def __init__(self, n_features):\n",
        "        super(CNNRegressor, self).__init__()\n",
        "        self.conv1 = nn.Conv1d(in_channels=1, out_channels=32, kernel_size=3, padding='same')\n",
        "        self.relu = nn.ReLU()\n",
        "        self.pool = nn.MaxPool1d(kernel_size=2)\n",
        "        self.conv2 = nn.Conv1d(in_channels=32, out_channels=64, kernel_size=2, padding='same')\n",
        "        self.flatten = nn.Flatten()\n",
        "\n",
        "        self.fc1 = nn.Linear(64 * (n_features // 2), 128)\n",
        "        self.fc2 = nn.Linear(128, 1)\n",
        "\n",
        "    def forward(self, x):\n",
        "        x = self.conv1(x)\n",
        "        x = self.relu(x)\n",
        "        x = self.pool(x)\n",
        "        x = self.conv2(x)\n",
        "        x = self.relu(x)\n",
        "        x = self.flatten(x)\n",
        "        x = self.fc1(x)\n",
        "        x = self.relu(x)\n",
        "        x = self.fc2(x)\n",
        "        return x.squeeze()"
      ]
    },
    {
      "cell_type": "code",
      "execution_count": 76,
      "metadata": {
        "id": "QjgPxqDD7lGn"
      },
      "outputs": [],
      "source": [
        "model_cnn = CNNRegressor(n_features).to(device)\n",
        "\n",
        "criterion = nn.MSELoss()\n",
        "optimizer = optim.Adam(model_cnn.parameters(), lr=0.0005)"
      ]
    },
    {
      "cell_type": "code",
      "execution_count": 77,
      "metadata": {
        "colab": {
          "base_uri": "https://localhost:8080/"
        },
        "id": "Ccx4H0EC7lEG",
        "outputId": "a2e0d3f8-4b9f-4b09-b1b7-0a60ffb0c35a"
      },
      "outputs": [
        {
          "output_type": "stream",
          "name": "stderr",
          "text": [
            "/usr/local/lib/python3.11/dist-packages/torch/nn/modules/conv.py:370: UserWarning: Using padding='same' with even kernel lengths and odd dilation may require a zero-padded copy of the input be created (Triggered internally at ../aten/src/ATen/native/Convolution.cpp:1036.)\n",
            "  return F.conv1d(\n"
          ]
        },
        {
          "output_type": "stream",
          "name": "stdout",
          "text": [
            "Epoch 1/10 - Train Loss: 87.488328\n",
            "Epoch 2/10 - Train Loss: 23.261543\n",
            "Epoch 3/10 - Train Loss: 23.025711\n",
            "Epoch 4/10 - Train Loss: 22.871247\n",
            "Epoch 5/10 - Train Loss: 22.701432\n",
            "Epoch 6/10 - Train Loss: 22.571292\n",
            "Epoch 7/10 - Train Loss: 22.434854\n",
            "Epoch 8/10 - Train Loss: 22.365375\n",
            "Epoch 9/10 - Train Loss: 22.254286\n",
            "Epoch 10/10 - Train Loss: 22.183499\n"
          ]
        },
        {
          "output_type": "execute_result",
          "data": {
            "text/plain": [
              "<All keys matched successfully>"
            ]
          },
          "metadata": {},
          "execution_count": 77
        }
      ],
      "source": [
        "num_epochs = 10\n",
        "patience = 5\n",
        "best_loss = np.inf\n",
        "patience_counter = 0\n",
        "\n",
        "for epoch in range(num_epochs):\n",
        "    model_cnn.train()\n",
        "    train_losses = []\n",
        "\n",
        "    for batch_X, batch_y in train_loader:\n",
        "        batch_X = batch_X.to(device)\n",
        "        batch_y = batch_y.to(device)\n",
        "\n",
        "        optimizer.zero_grad()\n",
        "        outputs = model_cnn(batch_X)\n",
        "        loss = criterion(outputs, batch_y)\n",
        "        loss.backward()\n",
        "        optimizer.step()\n",
        "        train_losses.append(loss.item())\n",
        "\n",
        "    avg_train_loss = np.mean(train_losses)\n",
        "\n",
        "    print(f\"Epoch {epoch+1}/{num_epochs} - Train Loss: {avg_train_loss:.6f}\")\n",
        "\n",
        "    if avg_train_loss < best_loss:\n",
        "        best_val_loss = avg_train_loss\n",
        "        patience_counter = 0\n",
        "        best_model_state = model_cnn.state_dict()\n",
        "    else:\n",
        "        patience_counter += 1\n",
        "        if patience_counter >= patience:\n",
        "            print(\"Early stopping triggered!\")\n",
        "            break\n",
        "\n",
        "model_cnn.load_state_dict(best_model_state)"
      ]
    },
    {
      "cell_type": "code",
      "execution_count": 78,
      "metadata": {
        "colab": {
          "base_uri": "https://localhost:8080/"
        },
        "id": "KdxhCoOe7qDQ",
        "outputId": "7f849416-6837-43fc-c3c2-6b88ee83eec1"
      },
      "outputs": [
        {
          "output_type": "stream",
          "name": "stdout",
          "text": [
            "CNN Test RMSE: 4.6956\n",
            "CNN Test MAE:  3.4668\n"
          ]
        }
      ],
      "source": [
        "model_cnn.eval()\n",
        "with torch.no_grad():\n",
        "    test_outputs = model_cnn(X_test_tensor.to(device))\n",
        "    test_loss = criterion(test_outputs, y_test_tensor.to(device)).item()\n",
        "rmse_cnn = np.sqrt(test_loss)\n",
        "\n",
        "cnn_predictions = test_outputs.cpu().numpy() if device.type == 'cuda' else test_outputs.numpy()\n",
        "mae_cnn = mean_absolute_error(y_test, cnn_predictions)\n",
        "\n",
        "print(f\"CNN Test RMSE: {rmse_cnn:.4f}\")\n",
        "print(f\"CNN Test MAE:  {mae_cnn:.4f}\")"
      ]
    },
    {
      "cell_type": "code",
      "execution_count": 79,
      "metadata": {
        "colab": {
          "base_uri": "https://localhost:8080/"
        },
        "id": "N6a4T6hIrvN2",
        "outputId": "4671bd1e-55f2-4cb0-da74-8f0543c91b6d"
      },
      "outputs": [
        {
          "output_type": "stream",
          "name": "stdout",
          "text": [
            "----- Model Comparison (Test Metrics) -----\n",
            "Linear Regression:      RMSE=4.8835, MAE=3.6424\n",
            "Random Forest:          RMSE=5.3264, MAE=3.5640\n",
            "XGBoost:                RMSE=5.2691, MAE=3.6030\n",
            "LSTM Neural Network:    RMSE=4.8508, MAE=3.6277\n",
            "CNN:                    RMSE=4.6956, MAE=3.4668\n"
          ]
        }
      ],
      "source": [
        "print(\"----- Model Comparison (Test Metrics) -----\")\n",
        "print(f\"Linear Regression:      RMSE={rmse_lin:.4f}, MAE={mae_lin:.4f}\")\n",
        "print(f\"Random Forest:          RMSE={rmse_rf:.4f}, MAE={mae_rf:.4f}\")\n",
        "print(f\"XGBoost:                RMSE={rmse_xgb:.4f}, MAE={mae_xgb:.4f}\")\n",
        "print(f\"LSTM Neural Network:    RMSE={rmse_lstm:.4f}, MAE={mae_lstm:.4f}\")\n",
        "print(f\"CNN:                    RMSE={rmse_cnn:.4f}, MAE={mae_cnn:.4f}\")"
      ]
    },
    {
      "cell_type": "code",
      "execution_count": 80,
      "metadata": {
        "colab": {
          "base_uri": "https://localhost:8080/",
          "height": 564
        },
        "id": "y5moiO6TrEtG",
        "outputId": "84e04ee1-46fa-43d4-c260-84297b2fd6ef"
      },
      "outputs": [
        {
          "output_type": "display_data",
          "data": {
            "text/plain": [
              "<Figure size 800x600 with 1 Axes>"
            ],
            "image/png": "[encoded data removed]"
          },
          "metadata": {}
        }
      ],
      "source": [
        "feature_importance = pd.Series(xgb_reg.feature_importances_, index=X_train.columns)\n",
        "feature_importance = feature_importance.sort_values(ascending=False)\n",
        "\n",
        "plt.figure(figsize=(8, 6))\n",
        "sns.barplot(x=feature_importance, y=feature_importance.index)\n",
        "plt.title(\"XGBoost Feature Importance\")\n",
        "plt.xlabel(\"Importance Score\")\n",
        "plt.ylabel(\"Features\")\n",
        "plt.show()"
      ]
    },
    {
      "cell_type": "code",
      "source": [],
      "metadata": {
        "id": "n3asSFW87c13"
      },
      "execution_count": null,
      "outputs": []
    }
  ],
  "metadata": {
    "accelerator": "GPU",
    "colab": {
      "gpuType": "T4",
      "provenance": []
    },
    "kernelspec": {
      "display_name": "Python 3",
      "name": "python3"
    },
    "language_info": {
      "name": "python"
    }
  },
  "nbformat": 4,
  "nbformat_minor": 0
}